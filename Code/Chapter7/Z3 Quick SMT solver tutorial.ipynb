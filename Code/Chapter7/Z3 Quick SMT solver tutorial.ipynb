{
 "cells": [
  {
   "cell_type": "markdown",
   "metadata": {},
   "source": [
    "# A very short tutorial to get started with z3 and HW1\n",
    "\n",
    "## Embedded system verificaiton (ECE 584)\n",
    "\n",
    "* September 5 2019\n",
    "* Written by Sayan Mitra\n",
    "* [A longer tutorial](https://ericpony.github.io/z3py-tutorial/guide-examples.htm) \n",
    "* [Source and installation](https://github.com/Z3Prover/z3)"
   ]
  },
  {
   "cell_type": "code",
   "execution_count": 51,
   "metadata": {},
   "outputs": [],
   "source": [
    "from z3 import * #Int, And, Or, Not, Implies, Solver, AtMost, AtLeast, ForAll, Exists\n"
   ]
  },
  {
   "cell_type": "code",
   "execution_count": 96,
   "metadata": {},
   "outputs": [
    {
     "name": "stdout",
     "output_type": "stream",
     "text": [
      "[y = 0, x = 7]\n"
     ]
    }
   ],
   "source": [
    "# Declare variables\n",
    "x = Int('x')\n",
    "y = Int('y')\n",
    "solve(x > 2, y < 10, x + 2*y == 7)"
   ]
  },
  {
   "cell_type": "code",
   "execution_count": 28,
   "metadata": {},
   "outputs": [],
   "source": [
    "def prove(conjecture):\n",
    "    # Do not change\n",
    "    # Setting up solver\n",
    "    s = Solver()\n",
    "    s.set(\"sat.cardinality.solver\", True)  # Some options to speed up the solver\n",
    "\n",
    "    s.add(Not(conjecture))  # Check unsat of negation for checking validity\n",
    "    result = s.check()\n",
    "    if result == z3.sat:\n",
    "        print(\"Given formula is not valid.\")\n",
    "        print(\"Counter example: \\n\", s.model())\n",
    "    elif result == z3.unsat:\n",
    "        print(\"Given formula is valid.\")\n",
    "    else:  # result == z3.unknown\n",
    "        print(\"Inconclusive. Z3 cannot solve with given options.\")\n"
   ]
  },
  {
   "cell_type": "code",
   "execution_count": 53,
   "metadata": {},
   "outputs": [
    {
     "name": "stdout",
     "output_type": "stream",
     "text": [
      "counterexample\n",
      "[y = 0, x = 1]\n"
     ]
    }
   ],
   "source": [
    "prove(Int(\"x\")==Int(\"y\"))"
   ]
  },
  {
   "cell_type": "code",
   "execution_count": 37,
   "metadata": {},
   "outputs": [],
   "source": [
    "b = Int('b')"
   ]
  },
  {
   "cell_type": "code",
   "execution_count": 55,
   "metadata": {},
   "outputs": [],
   "source": [
    "c = Int('c')"
   ]
  },
  {
   "cell_type": "code",
   "execution_count": 71,
   "metadata": {},
   "outputs": [
    {
     "name": "stdout",
     "output_type": "stream",
     "text": [
      "Given formula is valid.\n"
     ]
    }
   ],
   "source": [
    "stmt = (Implies(\n",
    "    ForAll(c, c>0),a>0))\n",
    "prove(stmt)"
   ]
  },
  {
   "cell_type": "code",
   "execution_count": 94,
   "metadata": {},
   "outputs": [
    {
     "data": {
      "text/plain": [
       "Or(And(x < 5, y == x - 2), And(x > 0, y == x + 2))"
      ]
     },
     "execution_count": 94,
     "metadata": {},
     "output_type": "execute_result"
    }
   ],
   "source": [
    "# Simple concurrent program that updates the state as follows\n",
    "# pre: x < 5 \n",
    "# eff: x := x - 2\n",
    "# pre: x > 0\n",
    "# eff: x := x + 2\n",
    "# show that \"x is even\" satisfies the transition closure property\n",
    "\n",
    "def invariant(state):\n",
    "    c = Int('c')\n",
    "    return(And(Exists(c, state == 2*c)))\n",
    "\n",
    "def trans(x1,x2):\n",
    "    tran_list = []\n",
    "    pre_1 = (x1 < 5)\n",
    "    eff_1 = (x2 == x1 - 2)\n",
    "    tran_list.append(And(pre_1,eff_1))\n",
    "    pre_2 = (x1 > 0)\n",
    "    eff_2 = (x2 == x1 + 2 )\n",
    "    tran_list.append(And(pre_2,eff_2))\n",
    "    return Or(tran_list)\n",
    "\n",
    "x = Int('x')\n",
    "y = Int('y')\n",
    "trans(x,y)"
   ]
  },
  {
   "cell_type": "code",
   "execution_count": 95,
   "metadata": {},
   "outputs": [
    {
     "name": "stdout",
     "output_type": "stream",
     "text": [
      "proved\n"
     ]
    }
   ],
   "source": [
    "def trans_ind(prestate,poststate):\n",
    "    return(Implies(And(invariant(prestate), trans(prestate,poststate)), invariant(poststate)))\n",
    "\n",
    "prove(trans_ind(x1,x2))"
   ]
  },
  {
   "cell_type": "code",
   "execution_count": null,
   "metadata": {},
   "outputs": [],
   "source": []
  }
 ],
 "metadata": {
  "kernelspec": {
   "display_name": "Python 3",
   "language": "python",
   "name": "python3"
  },
  "language_info": {
   "codemirror_mode": {
    "name": "ipython",
    "version": 3
   },
   "file_extension": ".py",
   "mimetype": "text/x-python",
   "name": "python",
   "nbconvert_exporter": "python",
   "pygments_lexer": "ipython3",
   "version": "3.6.8"
  }
 },
 "nbformat": 4,
 "nbformat_minor": 2
}
